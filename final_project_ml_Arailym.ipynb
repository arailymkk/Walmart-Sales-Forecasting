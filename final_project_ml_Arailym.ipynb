{
 "cells": [
  {
   "cell_type": "markdown",
   "metadata": {
    "colab_type": "text",
    "id": "Ib0mhBo7ZwcC"
   },
   "source": [
    "# Student: Arailym Kaiyrova\n",
    "# Walmart Sales Forecasting\n",
    "**Abstract:**\n",
    "\n",
    "One of kaggle's competitions was about predicting future sales for Walmart. There were given historical data on weekly sales for 45 different stores, each having about 80 departments, and there were were given information about weekly sales for each of these department for the period from February 2010 to October 2012. Furthermore, there were given information about size, and type of the stores, the presence of the special holiday in a given week, and the presence of markdown events supported by Walmart throughout the choosen period. Also, as an additional data there were given information about fuel prices, temperature outside, consumer price index (CPI), and unemployment in the country. \n",
    "\n",
    "The purpose of this project was to apply various regression models on the data, to identify the best model by tuning their hyperparameters, and according to the highest cross validation score mean.\n",
    "\n",
    "For this project the following models were tested:\n",
    "\n",
    "1. Linear Regression\n",
    "2, Bayesian Ridge\n",
    "3. Decision Tree Regressor\n",
    "4. Gradient Boosting Regressor\n",
    "5. Random Forest Regressor\n",
    "\n",
    "\n"
   ]
  },
  {
   "cell_type": "markdown",
   "metadata": {},
   "source": [
    "## Initial step was taken was importing the library packeges, and reading the csv files"
   ]
  },
  {
   "cell_type": "code",
   "execution_count": 44,
   "metadata": {
    "colab_type": "text",
    "id": "dIRJ3jcxZszW"
   },
   "outputs": [],
   "source": [
    "import numpy as np\n",
    "import pandas as pd\n",
    "import seaborn as sns\n",
    "import matplotlib.pyplot as plt\n",
    "from IPython.display import display, HTML\n",
    "\n",
    "import sklearn\n",
    "#models\n",
    "from sklearn import datasets, linear_model\n",
    "from sklearn.linear_model import BayesianRidge, LinearRegression\n",
    "from sklearn.ensemble import GradientBoostingRegressor, RandomForestRegressor\n",
    "from sklearn.tree import DecisionTreeRegressor\n",
    "from sklearn.svm import SVC\n",
    "from sklearn.linear_model import LogisticRegression\n",
    "from sklearn.preprocessing import PolynomialFeatures\n",
    "\n",
    "from sklearn.cross_validation import train_test_split\n",
    "from sklearn.preprocessing import StandardScaler\n",
    "from sklearn.cross_validation import cross_val_score\n",
    "from sklearn.cross_validation import LeaveOneOut\n",
    "from sklearn.model_selection import GridSearchCV\n",
    "from sklearn.model_selection import validation_curve\n",
    "from sklearn.model_selection import learning_curve\n",
    "\n",
    "\n",
    "from datetime import datetime\n",
    "from datetime import timedelta\n",
    "\n",
    "\n",
    "#Reading Data\n",
    "train=pd.read_csv('/Users/arailymkaiyrova/Desktop/Walmart/train.csv')\n",
    "features=pd.read_csv('/Users/arailymkaiyrova/Desktop/Walmart/features.csv')\n",
    "stores=pd.read_csv('/Users/arailymkaiyrova/Desktop/Walmart/stores.csv')"
   ]
  },
  {
   "cell_type": "markdown",
   "metadata": {},
   "source": [
    "## Merging the files\n",
    "Since we have given three different documents with different column sizes, it was necessary to combine them"
   ]
  },
  {
   "cell_type": "code",
   "execution_count": 45,
   "metadata": {
    "colab": {
     "base_uri": "https://localhost:8080/",
     "height": 309
    },
    "colab_type": "code",
    "id": "MyZfCyxEE_wa",
    "outputId": "3d577713-9806-4bde-bad2-828bc3532d01"
   },
   "outputs": [
    {
     "data": {
      "text/html": [
       "<div>\n",
       "<style scoped>\n",
       "    .dataframe tbody tr th:only-of-type {\n",
       "        vertical-align: middle;\n",
       "    }\n",
       "\n",
       "    .dataframe tbody tr th {\n",
       "        vertical-align: top;\n",
       "    }\n",
       "\n",
       "    .dataframe thead th {\n",
       "        text-align: right;\n",
       "    }\n",
       "</style>\n",
       "<table border=\"1\" class=\"dataframe\">\n",
       "  <thead>\n",
       "    <tr style=\"text-align: right;\">\n",
       "      <th></th>\n",
       "      <th>0</th>\n",
       "      <th>1</th>\n",
       "      <th>2</th>\n",
       "      <th>3</th>\n",
       "      <th>4</th>\n",
       "    </tr>\n",
       "  </thead>\n",
       "  <tbody>\n",
       "    <tr>\n",
       "      <th>Store</th>\n",
       "      <td>1</td>\n",
       "      <td>1</td>\n",
       "      <td>1</td>\n",
       "      <td>1</td>\n",
       "      <td>1</td>\n",
       "    </tr>\n",
       "    <tr>\n",
       "      <th>Dept</th>\n",
       "      <td>1</td>\n",
       "      <td>1</td>\n",
       "      <td>1</td>\n",
       "      <td>1</td>\n",
       "      <td>1</td>\n",
       "    </tr>\n",
       "    <tr>\n",
       "      <th>Date</th>\n",
       "      <td>2010-02-05</td>\n",
       "      <td>2010-02-12</td>\n",
       "      <td>2010-02-19</td>\n",
       "      <td>2010-02-26</td>\n",
       "      <td>2010-03-05</td>\n",
       "    </tr>\n",
       "    <tr>\n",
       "      <th>Weekly_Sales</th>\n",
       "      <td>24924.5</td>\n",
       "      <td>46039.5</td>\n",
       "      <td>41595.6</td>\n",
       "      <td>19403.5</td>\n",
       "      <td>21827.9</td>\n",
       "    </tr>\n",
       "    <tr>\n",
       "      <th>IsHoliday</th>\n",
       "      <td>False</td>\n",
       "      <td>True</td>\n",
       "      <td>False</td>\n",
       "      <td>False</td>\n",
       "      <td>False</td>\n",
       "    </tr>\n",
       "    <tr>\n",
       "      <th>Type</th>\n",
       "      <td>A</td>\n",
       "      <td>A</td>\n",
       "      <td>A</td>\n",
       "      <td>A</td>\n",
       "      <td>A</td>\n",
       "    </tr>\n",
       "    <tr>\n",
       "      <th>Size</th>\n",
       "      <td>151315</td>\n",
       "      <td>151315</td>\n",
       "      <td>151315</td>\n",
       "      <td>151315</td>\n",
       "      <td>151315</td>\n",
       "    </tr>\n",
       "    <tr>\n",
       "      <th>Temperature</th>\n",
       "      <td>42.31</td>\n",
       "      <td>38.51</td>\n",
       "      <td>39.93</td>\n",
       "      <td>46.63</td>\n",
       "      <td>46.5</td>\n",
       "    </tr>\n",
       "    <tr>\n",
       "      <th>Fuel_Price</th>\n",
       "      <td>2.572</td>\n",
       "      <td>2.548</td>\n",
       "      <td>2.514</td>\n",
       "      <td>2.561</td>\n",
       "      <td>2.625</td>\n",
       "    </tr>\n",
       "    <tr>\n",
       "      <th>MarkDown1</th>\n",
       "      <td>0</td>\n",
       "      <td>0</td>\n",
       "      <td>0</td>\n",
       "      <td>0</td>\n",
       "      <td>0</td>\n",
       "    </tr>\n",
       "    <tr>\n",
       "      <th>MarkDown2</th>\n",
       "      <td>0</td>\n",
       "      <td>0</td>\n",
       "      <td>0</td>\n",
       "      <td>0</td>\n",
       "      <td>0</td>\n",
       "    </tr>\n",
       "    <tr>\n",
       "      <th>MarkDown3</th>\n",
       "      <td>0</td>\n",
       "      <td>0</td>\n",
       "      <td>0</td>\n",
       "      <td>0</td>\n",
       "      <td>0</td>\n",
       "    </tr>\n",
       "    <tr>\n",
       "      <th>MarkDown4</th>\n",
       "      <td>0</td>\n",
       "      <td>0</td>\n",
       "      <td>0</td>\n",
       "      <td>0</td>\n",
       "      <td>0</td>\n",
       "    </tr>\n",
       "    <tr>\n",
       "      <th>MarkDown5</th>\n",
       "      <td>0</td>\n",
       "      <td>0</td>\n",
       "      <td>0</td>\n",
       "      <td>0</td>\n",
       "      <td>0</td>\n",
       "    </tr>\n",
       "    <tr>\n",
       "      <th>CPI</th>\n",
       "      <td>211.096</td>\n",
       "      <td>211.242</td>\n",
       "      <td>211.289</td>\n",
       "      <td>211.32</td>\n",
       "      <td>211.35</td>\n",
       "    </tr>\n",
       "    <tr>\n",
       "      <th>Unemployment</th>\n",
       "      <td>8.106</td>\n",
       "      <td>8.106</td>\n",
       "      <td>8.106</td>\n",
       "      <td>8.106</td>\n",
       "      <td>8.106</td>\n",
       "    </tr>\n",
       "  </tbody>\n",
       "</table>\n",
       "</div>"
      ],
      "text/plain": [
       "                       0           1           2           3           4\n",
       "Store                  1           1           1           1           1\n",
       "Dept                   1           1           1           1           1\n",
       "Date          2010-02-05  2010-02-12  2010-02-19  2010-02-26  2010-03-05\n",
       "Weekly_Sales     24924.5     46039.5     41595.6     19403.5     21827.9\n",
       "IsHoliday          False        True       False       False       False\n",
       "Type                   A           A           A           A           A\n",
       "Size              151315      151315      151315      151315      151315\n",
       "Temperature        42.31       38.51       39.93       46.63        46.5\n",
       "Fuel_Price         2.572       2.548       2.514       2.561       2.625\n",
       "MarkDown1              0           0           0           0           0\n",
       "MarkDown2              0           0           0           0           0\n",
       "MarkDown3              0           0           0           0           0\n",
       "MarkDown4              0           0           0           0           0\n",
       "MarkDown5              0           0           0           0           0\n",
       "CPI              211.096     211.242     211.289      211.32      211.35\n",
       "Unemployment       8.106       8.106       8.106       8.106       8.106"
      ]
     },
     "execution_count": 45,
     "metadata": {},
     "output_type": "execute_result"
    }
   ],
   "source": [
    "stores_features = pd.merge(stores, features, on=['Store'], how = 'left').fillna(0)\n",
    "walmart_data = pd.merge(train, stores_features, on=['Store','Date','IsHoliday'], how = 'left').fillna(0)\n",
    "walmart_data.head().transpose()"
   ]
  },
  {
   "cell_type": "markdown",
   "metadata": {},
   "source": [
    "## Constructing correlation table\n",
    "Since we have several features, I decided initially to construct a correlation table to identify the key features"
   ]
  },
  {
   "cell_type": "code",
   "execution_count": 46,
   "metadata": {
    "colab": {
     "base_uri": "https://localhost:8080/",
     "height": 611
    },
    "colab_type": "code",
    "id": "lxniq-pq0y_2",
    "outputId": "9ca3be8a-e3b1-4220-9ab0-d008ea7493f6"
   },
   "outputs": [
    {
     "data": {
      "text/plain": [
       "<matplotlib.axes._subplots.AxesSubplot at 0x1a213666d8>"
      ]
     },
     "execution_count": 46,
     "metadata": {},
     "output_type": "execute_result"
    },
    {
     "data": {
      "image/png": "[encoded data removed]",
      "text/plain": [
       "<Figure size 792x648 with 2 Axes>"
      ]
     },
     "metadata": {},
     "output_type": "display_data"
    }
   ],
   "source": [
    "sns.set(style=\"white\")\n",
    "corr = walmart_data.corr()\n",
    "mask = np.zeros_like(corr, dtype=np.bool)\n",
    "mask[np.triu_indices_from(mask)] = True\n",
    "f, ax = plt.subplots(figsize=(11, 9))\n",
    "cmap = sns.diverging_palette(220, 10, as_cmap=True)\n",
    "sns.heatmap(corr, mask=mask, cmap=cmap, vmax=.3, center=0,\n",
    "            square=True, linewidths=.5, cbar_kws={\"shrink\": .5})"
   ]
  },
  {
   "cell_type": "raw",
   "metadata": {},
   "source": [
    "According to correlation table above, it can be seen that the key factors that affect weekly sales are size of the store, and departments itside it. Also, there are some effects of CPI, unemployment, and Markdown events, except Markdown2. Any correlation of temperature, fuel prices, and holidays can be noticed from the table."
   ]
  },
  {
   "cell_type": "markdown",
   "metadata": {},
   "source": [
    "## Data adjustments, and identifying new possible features"
   ]
  },
  {
   "cell_type": "markdown",
   "metadata": {},
   "source": [
    "Since holidays, markdown events happens in particular period of the year, and our target value is calculated weekly, I find it important to include the week of the year. Then, next step is to convert date to week number."
   ]
  },
  {
   "cell_type": "code",
   "execution_count": 47,
   "metadata": {},
   "outputs": [],
   "source": [
    "walmart_data['Date'] = pd.to_datetime(walmart_data['Date'])\n",
    "walmart_data['Year'] = walmart_data['Date'].dt.year\n",
    "walmart_data['Week'] = walmart_data['Date'].dt.week\n",
    "walmart_data.drop(['Year'], axis=1, inplace=True)\n",
    "walmart_data = pd.get_dummies(walmart_data)"
   ]
  },
  {
   "cell_type": "raw",
   "metadata": {},
   "source": [
    "To identify if week of the year affect the weekly sales, I construted scatter plot week vs weekly_sales"
   ]
  },
  {
   "cell_type": "code",
   "execution_count": 48,
   "metadata": {},
   "outputs": [
    {
     "data": {
      "text/plain": [
       "Text(0.5,0,'Week')"
      ]
     },
     "execution_count": 48,
     "metadata": {},
     "output_type": "execute_result"
    },
    {
     "data": {
      "image/png": "[encoded data removed]",
      "text/plain": [
       "<Figure size 432x288 with 1 Axes>"
      ]
     },
     "metadata": {},
     "output_type": "display_data"
    }
   ],
   "source": [
    "plt.scatter(walmart_data['Week'], walmart_data['Weekly_Sales'], color = \"purple\")\n",
    "plt.title(\"Week vs Weekly Sales\")\n",
    "plt.ylabel(\"Weekly Sales\")                \n",
    "plt.xlabel(\"Week\")"
   ]
  },
  {
   "cell_type": "code",
   "execution_count": 49,
   "metadata": {},
   "outputs": [
    {
     "data": {
      "text/html": [
       "<div>\n",
       "<style scoped>\n",
       "    .dataframe tbody tr th:only-of-type {\n",
       "        vertical-align: middle;\n",
       "    }\n",
       "\n",
       "    .dataframe tbody tr th {\n",
       "        vertical-align: top;\n",
       "    }\n",
       "\n",
       "    .dataframe thead th {\n",
       "        text-align: right;\n",
       "    }\n",
       "</style>\n",
       "<table border=\"1\" class=\"dataframe\">\n",
       "  <thead>\n",
       "    <tr style=\"text-align: right;\">\n",
       "      <th></th>\n",
       "      <th>count</th>\n",
       "      <th>mean</th>\n",
       "      <th>std</th>\n",
       "      <th>min</th>\n",
       "      <th>25%</th>\n",
       "      <th>50%</th>\n",
       "      <th>75%</th>\n",
       "      <th>max</th>\n",
       "    </tr>\n",
       "  </thead>\n",
       "  <tbody>\n",
       "    <tr>\n",
       "      <th>Store</th>\n",
       "      <td>421570.0</td>\n",
       "      <td>22.200546</td>\n",
       "      <td>12.785297</td>\n",
       "      <td>1.000</td>\n",
       "      <td>11.000000</td>\n",
       "      <td>22.00000</td>\n",
       "      <td>33.000000</td>\n",
       "      <td>45.000000</td>\n",
       "    </tr>\n",
       "    <tr>\n",
       "      <th>Dept</th>\n",
       "      <td>421570.0</td>\n",
       "      <td>44.260317</td>\n",
       "      <td>30.492054</td>\n",
       "      <td>1.000</td>\n",
       "      <td>18.000000</td>\n",
       "      <td>37.00000</td>\n",
       "      <td>74.000000</td>\n",
       "      <td>99.000000</td>\n",
       "    </tr>\n",
       "    <tr>\n",
       "      <th>Weekly_Sales</th>\n",
       "      <td>421570.0</td>\n",
       "      <td>15981.258123</td>\n",
       "      <td>22711.183519</td>\n",
       "      <td>-4988.940</td>\n",
       "      <td>2079.650000</td>\n",
       "      <td>7612.03000</td>\n",
       "      <td>20205.852500</td>\n",
       "      <td>693099.360000</td>\n",
       "    </tr>\n",
       "    <tr>\n",
       "      <th>Size</th>\n",
       "      <td>421570.0</td>\n",
       "      <td>136727.915739</td>\n",
       "      <td>60980.583328</td>\n",
       "      <td>34875.000</td>\n",
       "      <td>93638.000000</td>\n",
       "      <td>140167.00000</td>\n",
       "      <td>202505.000000</td>\n",
       "      <td>219622.000000</td>\n",
       "    </tr>\n",
       "    <tr>\n",
       "      <th>Temperature</th>\n",
       "      <td>421570.0</td>\n",
       "      <td>60.090059</td>\n",
       "      <td>18.447931</td>\n",
       "      <td>-2.060</td>\n",
       "      <td>46.680000</td>\n",
       "      <td>62.09000</td>\n",
       "      <td>74.280000</td>\n",
       "      <td>100.140000</td>\n",
       "    </tr>\n",
       "    <tr>\n",
       "      <th>Fuel_Price</th>\n",
       "      <td>421570.0</td>\n",
       "      <td>3.361027</td>\n",
       "      <td>0.458515</td>\n",
       "      <td>2.472</td>\n",
       "      <td>2.933000</td>\n",
       "      <td>3.45200</td>\n",
       "      <td>3.738000</td>\n",
       "      <td>4.468000</td>\n",
       "    </tr>\n",
       "    <tr>\n",
       "      <th>MarkDown1</th>\n",
       "      <td>421570.0</td>\n",
       "      <td>2590.074819</td>\n",
       "      <td>6052.385934</td>\n",
       "      <td>0.000</td>\n",
       "      <td>0.000000</td>\n",
       "      <td>0.00000</td>\n",
       "      <td>2809.050000</td>\n",
       "      <td>88646.760000</td>\n",
       "    </tr>\n",
       "    <tr>\n",
       "      <th>MarkDown2</th>\n",
       "      <td>421570.0</td>\n",
       "      <td>879.974298</td>\n",
       "      <td>5084.538801</td>\n",
       "      <td>-265.760</td>\n",
       "      <td>0.000000</td>\n",
       "      <td>0.00000</td>\n",
       "      <td>2.200000</td>\n",
       "      <td>104519.540000</td>\n",
       "    </tr>\n",
       "    <tr>\n",
       "      <th>MarkDown3</th>\n",
       "      <td>421570.0</td>\n",
       "      <td>468.087665</td>\n",
       "      <td>5528.873453</td>\n",
       "      <td>-29.100</td>\n",
       "      <td>0.000000</td>\n",
       "      <td>0.00000</td>\n",
       "      <td>4.540000</td>\n",
       "      <td>141630.610000</td>\n",
       "    </tr>\n",
       "    <tr>\n",
       "      <th>MarkDown4</th>\n",
       "      <td>421570.0</td>\n",
       "      <td>1083.132268</td>\n",
       "      <td>3894.529945</td>\n",
       "      <td>0.000</td>\n",
       "      <td>0.000000</td>\n",
       "      <td>0.00000</td>\n",
       "      <td>425.290000</td>\n",
       "      <td>67474.850000</td>\n",
       "    </tr>\n",
       "    <tr>\n",
       "      <th>MarkDown5</th>\n",
       "      <td>421570.0</td>\n",
       "      <td>1662.772385</td>\n",
       "      <td>4207.629321</td>\n",
       "      <td>0.000</td>\n",
       "      <td>0.000000</td>\n",
       "      <td>0.00000</td>\n",
       "      <td>2168.040000</td>\n",
       "      <td>108519.280000</td>\n",
       "    </tr>\n",
       "    <tr>\n",
       "      <th>CPI</th>\n",
       "      <td>421570.0</td>\n",
       "      <td>171.201947</td>\n",
       "      <td>39.159276</td>\n",
       "      <td>126.064</td>\n",
       "      <td>132.022667</td>\n",
       "      <td>182.31878</td>\n",
       "      <td>212.416993</td>\n",
       "      <td>227.232807</td>\n",
       "    </tr>\n",
       "    <tr>\n",
       "      <th>Unemployment</th>\n",
       "      <td>421570.0</td>\n",
       "      <td>7.960289</td>\n",
       "      <td>1.863296</td>\n",
       "      <td>3.879</td>\n",
       "      <td>6.891000</td>\n",
       "      <td>7.86600</td>\n",
       "      <td>8.572000</td>\n",
       "      <td>14.313000</td>\n",
       "    </tr>\n",
       "    <tr>\n",
       "      <th>Week</th>\n",
       "      <td>421570.0</td>\n",
       "      <td>25.826762</td>\n",
       "      <td>14.151887</td>\n",
       "      <td>1.000</td>\n",
       "      <td>14.000000</td>\n",
       "      <td>26.00000</td>\n",
       "      <td>38.000000</td>\n",
       "      <td>52.000000</td>\n",
       "    </tr>\n",
       "    <tr>\n",
       "      <th>Type_A</th>\n",
       "      <td>421570.0</td>\n",
       "      <td>0.511132</td>\n",
       "      <td>0.499877</td>\n",
       "      <td>0.000</td>\n",
       "      <td>0.000000</td>\n",
       "      <td>1.00000</td>\n",
       "      <td>1.000000</td>\n",
       "      <td>1.000000</td>\n",
       "    </tr>\n",
       "    <tr>\n",
       "      <th>Type_B</th>\n",
       "      <td>421570.0</td>\n",
       "      <td>0.387824</td>\n",
       "      <td>0.487255</td>\n",
       "      <td>0.000</td>\n",
       "      <td>0.000000</td>\n",
       "      <td>0.00000</td>\n",
       "      <td>1.000000</td>\n",
       "      <td>1.000000</td>\n",
       "    </tr>\n",
       "    <tr>\n",
       "      <th>Type_C</th>\n",
       "      <td>421570.0</td>\n",
       "      <td>0.101044</td>\n",
       "      <td>0.301387</td>\n",
       "      <td>0.000</td>\n",
       "      <td>0.000000</td>\n",
       "      <td>0.00000</td>\n",
       "      <td>0.000000</td>\n",
       "      <td>1.000000</td>\n",
       "    </tr>\n",
       "  </tbody>\n",
       "</table>\n",
       "</div>"
      ],
      "text/plain": [
       "                 count           mean           std        min           25%  \\\n",
       "Store         421570.0      22.200546     12.785297      1.000     11.000000   \n",
       "Dept          421570.0      44.260317     30.492054      1.000     18.000000   \n",
       "Weekly_Sales  421570.0   15981.258123  22711.183519  -4988.940   2079.650000   \n",
       "Size          421570.0  136727.915739  60980.583328  34875.000  93638.000000   \n",
       "Temperature   421570.0      60.090059     18.447931     -2.060     46.680000   \n",
       "Fuel_Price    421570.0       3.361027      0.458515      2.472      2.933000   \n",
       "MarkDown1     421570.0    2590.074819   6052.385934      0.000      0.000000   \n",
       "MarkDown2     421570.0     879.974298   5084.538801   -265.760      0.000000   \n",
       "MarkDown3     421570.0     468.087665   5528.873453    -29.100      0.000000   \n",
       "MarkDown4     421570.0    1083.132268   3894.529945      0.000      0.000000   \n",
       "MarkDown5     421570.0    1662.772385   4207.629321      0.000      0.000000   \n",
       "CPI           421570.0     171.201947     39.159276    126.064    132.022667   \n",
       "Unemployment  421570.0       7.960289      1.863296      3.879      6.891000   \n",
       "Week          421570.0      25.826762     14.151887      1.000     14.000000   \n",
       "Type_A        421570.0       0.511132      0.499877      0.000      0.000000   \n",
       "Type_B        421570.0       0.387824      0.487255      0.000      0.000000   \n",
       "Type_C        421570.0       0.101044      0.301387      0.000      0.000000   \n",
       "\n",
       "                       50%            75%            max  \n",
       "Store             22.00000      33.000000      45.000000  \n",
       "Dept              37.00000      74.000000      99.000000  \n",
       "Weekly_Sales    7612.03000   20205.852500  693099.360000  \n",
       "Size          140167.00000  202505.000000  219622.000000  \n",
       "Temperature       62.09000      74.280000     100.140000  \n",
       "Fuel_Price         3.45200       3.738000       4.468000  \n",
       "MarkDown1          0.00000    2809.050000   88646.760000  \n",
       "MarkDown2          0.00000       2.200000  104519.540000  \n",
       "MarkDown3          0.00000       4.540000  141630.610000  \n",
       "MarkDown4          0.00000     425.290000   67474.850000  \n",
       "MarkDown5          0.00000    2168.040000  108519.280000  \n",
       "CPI              182.31878     212.416993     227.232807  \n",
       "Unemployment       7.86600       8.572000      14.313000  \n",
       "Week              26.00000      38.000000      52.000000  \n",
       "Type_A             1.00000       1.000000       1.000000  \n",
       "Type_B             0.00000       1.000000       1.000000  \n",
       "Type_C             0.00000       0.000000       1.000000  "
      ]
     },
     "execution_count": 49,
     "metadata": {},
     "output_type": "execute_result"
    }
   ],
   "source": [
    "walmart_data.describe().transpose()"
   ]
  },
  {
   "cell_type": "raw",
   "metadata": {},
   "source": [
    "From the plot it can be shown that by the end of the year, approximately form week 45 to week 52, there are sharp increase in weekly sales, even up to 700,000. To understand which exactly dates there are changes, let us look at the dates with high number of stores with weekly sales more then 200,000."
   ]
  },
  {
   "cell_type": "code",
   "execution_count": 50,
   "metadata": {
    "colab": {
     "base_uri": "https://localhost:8080/",
     "height": 153
    },
    "colab_type": "code",
    "id": "29UPcTqF666g",
    "outputId": "2ae0d13f-e2ad-4737-a4fc-1c35b6fdf32c"
   },
   "outputs": [
    {
     "data": {
      "text/plain": [
       "2011-11-25    26\n",
       "2010-12-24    25\n",
       "2010-11-26    25\n",
       "2011-12-23    14\n",
       "2010-12-17     3\n",
       "2010-02-05     2\n",
       "2010-12-10     1\n",
       "2012-02-10     1\n",
       "2011-10-07     1\n",
       "2011-02-11     1\n",
       "2011-08-26     1\n",
       "2012-04-06     1\n",
       "2011-12-09     1\n",
       "Name: Date, dtype: int64"
      ]
     },
     "execution_count": 50,
     "metadata": {},
     "output_type": "execute_result"
    }
   ],
   "source": [
    "walmart_data.loc[walmart_data['Weekly_Sales'] >220000,\"Date\"].value_counts()"
   ]
  },
  {
   "cell_type": "raw",
   "metadata": {},
   "source": [
    "There are two periods every year, end of November, and December with high sales. It is obvious that December sales are due to Christmas holidays. Also, for November, there are special sales' day named \"Black Friday\" happening every November. Now, I will create two new features for Black Friday, and Christmas weeks"
   ]
  },
  {
   "cell_type": "code",
   "execution_count": 51,
   "metadata": {
    "colab": {
     "base_uri": "https://localhost:8080/",
     "height": 338
    },
    "colab_type": "code",
    "id": "EqKqUUreCssp",
    "outputId": "2929da0c-0533-416d-a939-ec3341229b90"
   },
   "outputs": [
    {
     "data": {
      "text/html": [
       "<div>\n",
       "<style scoped>\n",
       "    .dataframe tbody tr th:only-of-type {\n",
       "        vertical-align: middle;\n",
       "    }\n",
       "\n",
       "    .dataframe tbody tr th {\n",
       "        vertical-align: top;\n",
       "    }\n",
       "\n",
       "    .dataframe thead th {\n",
       "        text-align: right;\n",
       "    }\n",
       "</style>\n",
       "<table border=\"1\" class=\"dataframe\">\n",
       "  <thead>\n",
       "    <tr style=\"text-align: right;\">\n",
       "      <th></th>\n",
       "      <th>Store</th>\n",
       "      <th>Dept</th>\n",
       "      <th>Date</th>\n",
       "      <th>Weekly_Sales</th>\n",
       "      <th>IsHoliday</th>\n",
       "      <th>Size</th>\n",
       "      <th>Temperature</th>\n",
       "      <th>Fuel_Price</th>\n",
       "      <th>MarkDown1</th>\n",
       "      <th>MarkDown2</th>\n",
       "      <th>...</th>\n",
       "      <th>MarkDown4</th>\n",
       "      <th>MarkDown5</th>\n",
       "      <th>CPI</th>\n",
       "      <th>Unemployment</th>\n",
       "      <th>Week</th>\n",
       "      <th>Type_A</th>\n",
       "      <th>Type_B</th>\n",
       "      <th>Type_C</th>\n",
       "      <th>Black_Friday</th>\n",
       "      <th>Christmas</th>\n",
       "    </tr>\n",
       "  </thead>\n",
       "  <tbody>\n",
       "    <tr>\n",
       "      <th>0</th>\n",
       "      <td>1</td>\n",
       "      <td>1</td>\n",
       "      <td>2010-02-05</td>\n",
       "      <td>24924.50</td>\n",
       "      <td>False</td>\n",
       "      <td>151315</td>\n",
       "      <td>42.31</td>\n",
       "      <td>2.572</td>\n",
       "      <td>0.0</td>\n",
       "      <td>0.0</td>\n",
       "      <td>...</td>\n",
       "      <td>0.0</td>\n",
       "      <td>0.0</td>\n",
       "      <td>211.096358</td>\n",
       "      <td>8.106</td>\n",
       "      <td>5</td>\n",
       "      <td>1</td>\n",
       "      <td>0</td>\n",
       "      <td>0</td>\n",
       "      <td>0</td>\n",
       "      <td>0</td>\n",
       "    </tr>\n",
       "    <tr>\n",
       "      <th>1</th>\n",
       "      <td>1</td>\n",
       "      <td>1</td>\n",
       "      <td>2010-02-12</td>\n",
       "      <td>46039.49</td>\n",
       "      <td>True</td>\n",
       "      <td>151315</td>\n",
       "      <td>38.51</td>\n",
       "      <td>2.548</td>\n",
       "      <td>0.0</td>\n",
       "      <td>0.0</td>\n",
       "      <td>...</td>\n",
       "      <td>0.0</td>\n",
       "      <td>0.0</td>\n",
       "      <td>211.242170</td>\n",
       "      <td>8.106</td>\n",
       "      <td>6</td>\n",
       "      <td>1</td>\n",
       "      <td>0</td>\n",
       "      <td>0</td>\n",
       "      <td>0</td>\n",
       "      <td>0</td>\n",
       "    </tr>\n",
       "    <tr>\n",
       "      <th>2</th>\n",
       "      <td>1</td>\n",
       "      <td>1</td>\n",
       "      <td>2010-02-19</td>\n",
       "      <td>41595.55</td>\n",
       "      <td>False</td>\n",
       "      <td>151315</td>\n",
       "      <td>39.93</td>\n",
       "      <td>2.514</td>\n",
       "      <td>0.0</td>\n",
       "      <td>0.0</td>\n",
       "      <td>...</td>\n",
       "      <td>0.0</td>\n",
       "      <td>0.0</td>\n",
       "      <td>211.289143</td>\n",
       "      <td>8.106</td>\n",
       "      <td>7</td>\n",
       "      <td>1</td>\n",
       "      <td>0</td>\n",
       "      <td>0</td>\n",
       "      <td>0</td>\n",
       "      <td>0</td>\n",
       "    </tr>\n",
       "    <tr>\n",
       "      <th>3</th>\n",
       "      <td>1</td>\n",
       "      <td>1</td>\n",
       "      <td>2010-02-26</td>\n",
       "      <td>19403.54</td>\n",
       "      <td>False</td>\n",
       "      <td>151315</td>\n",
       "      <td>46.63</td>\n",
       "      <td>2.561</td>\n",
       "      <td>0.0</td>\n",
       "      <td>0.0</td>\n",
       "      <td>...</td>\n",
       "      <td>0.0</td>\n",
       "      <td>0.0</td>\n",
       "      <td>211.319643</td>\n",
       "      <td>8.106</td>\n",
       "      <td>8</td>\n",
       "      <td>1</td>\n",
       "      <td>0</td>\n",
       "      <td>0</td>\n",
       "      <td>0</td>\n",
       "      <td>0</td>\n",
       "    </tr>\n",
       "    <tr>\n",
       "      <th>4</th>\n",
       "      <td>1</td>\n",
       "      <td>1</td>\n",
       "      <td>2010-03-05</td>\n",
       "      <td>21827.90</td>\n",
       "      <td>False</td>\n",
       "      <td>151315</td>\n",
       "      <td>46.50</td>\n",
       "      <td>2.625</td>\n",
       "      <td>0.0</td>\n",
       "      <td>0.0</td>\n",
       "      <td>...</td>\n",
       "      <td>0.0</td>\n",
       "      <td>0.0</td>\n",
       "      <td>211.350143</td>\n",
       "      <td>8.106</td>\n",
       "      <td>9</td>\n",
       "      <td>1</td>\n",
       "      <td>0</td>\n",
       "      <td>0</td>\n",
       "      <td>0</td>\n",
       "      <td>0</td>\n",
       "    </tr>\n",
       "  </tbody>\n",
       "</table>\n",
       "<p>5 rows × 21 columns</p>\n",
       "</div>"
      ],
      "text/plain": [
       "   Store  Dept       Date  Weekly_Sales  IsHoliday    Size  Temperature  \\\n",
       "0      1     1 2010-02-05      24924.50      False  151315        42.31   \n",
       "1      1     1 2010-02-12      46039.49       True  151315        38.51   \n",
       "2      1     1 2010-02-19      41595.55      False  151315        39.93   \n",
       "3      1     1 2010-02-26      19403.54      False  151315        46.63   \n",
       "4      1     1 2010-03-05      21827.90      False  151315        46.50   \n",
       "\n",
       "   Fuel_Price  MarkDown1  MarkDown2    ...      MarkDown4  MarkDown5  \\\n",
       "0       2.572        0.0        0.0    ...            0.0        0.0   \n",
       "1       2.548        0.0        0.0    ...            0.0        0.0   \n",
       "2       2.514        0.0        0.0    ...            0.0        0.0   \n",
       "3       2.561        0.0        0.0    ...            0.0        0.0   \n",
       "4       2.625        0.0        0.0    ...            0.0        0.0   \n",
       "\n",
       "          CPI  Unemployment  Week  Type_A  Type_B  Type_C  Black_Friday  \\\n",
       "0  211.096358         8.106     5       1       0       0             0   \n",
       "1  211.242170         8.106     6       1       0       0             0   \n",
       "2  211.289143         8.106     7       1       0       0             0   \n",
       "3  211.319643         8.106     8       1       0       0             0   \n",
       "4  211.350143         8.106     9       1       0       0             0   \n",
       "\n",
       "   Christmas  \n",
       "0          0  \n",
       "1          0  \n",
       "2          0  \n",
       "3          0  \n",
       "4          0  \n",
       "\n",
       "[5 rows x 21 columns]"
      ]
     },
     "execution_count": 51,
     "metadata": {},
     "output_type": "execute_result"
    }
   ],
   "source": [
    "walmart_data['Black_Friday'] = np.where((walmart_data['Date']==datetime(2010, 11, 26).date()) | (walmart_data['Date']==datetime(2011, 11, 25).date()), 1, 0)\n",
    "walmart_data['Christmas'] = np.where((walmart_data['Date']==datetime(2010, 12, 24).date()) | (walmart_data['Date']==datetime(2011, 12, 23).date()), 1, 0)\n",
    "Black_Friday_dummies = pd.get_dummies(walmart_data['Black_Friday'] )\n",
    "Christmas_dummies = pd.get_dummies(walmart_data['Christmas'] )\n",
    "walmart_data.head()"
   ]
  },
  {
   "cell_type": "raw",
   "metadata": {},
   "source": [
    "This is how walmart sales data looklike after merging, and adjustments"
   ]
  },
  {
   "cell_type": "code",
   "execution_count": 52,
   "metadata": {},
   "outputs": [
    {
     "data": {
      "text/plain": [
       "<matplotlib.axes._subplots.AxesSubplot at 0x1a0e0d5eb8>"
      ]
     },
     "execution_count": 52,
     "metadata": {},
     "output_type": "execute_result"
    },
    {
     "data": {
      "image/png": "[encoded data removed]",
      "text/plain": [
       "<Figure size 792x648 with 2 Axes>"
      ]
     },
     "metadata": {},
     "output_type": "display_data"
    }
   ],
   "source": [
    "sns.set(style=\"white\")\n",
    "corr = walmart_data.corr()\n",
    "mask = np.zeros_like(corr, dtype=np.bool)\n",
    "mask[np.triu_indices_from(mask)] = True\n",
    "f, ax = plt.subplots(figsize=(11, 9))\n",
    "cmap = sns.diverging_palette(220, 10, as_cmap=True)\n",
    "sns.heatmap(corr, mask=mask, cmap=cmap, vmax=.3, center=0,\n",
    "            square=True, linewidths=.5, cbar_kws={\"shrink\": .5})"
   ]
  },
  {
   "cell_type": "markdown",
   "metadata": {},
   "source": [
    "## Model Selection"
   ]
  },
  {
   "cell_type": "markdown",
   "metadata": {},
   "source": [
    "### Linear Regression, Bayesian Ridge"
   ]
  },
  {
   "cell_type": "markdown",
   "metadata": {},
   "source": [
    "The next important step was select the most efficient model for prediction. I have tried less complex models such as linear regression, lasso, bayesian ridge. They all have shown a very low training accuracy score.Learning curves for some of them are shown below\n"
   ]
  },
  {
   "cell_type": "code",
   "execution_count": 21,
   "metadata": {
    "colab": {},
    "colab_type": "code",
    "id": "WsyXA5DnFO6_"
   },
   "outputs": [],
   "source": [
    "y = targets = labels = walmart_data[\"Weekly_Sales\"].values\n",
    "\n",
    "columns = [\"Store\", \"Dept\", \"Week\", \"Black_Friday\", \"Christmas\", \"IsHoliday\", \"CPI\", \"Unemployment\",\"Size\", \"Temperature\", \"Fuel_Price\", \"MarkDown1\", \"MarkDown2\", \"MarkDown3\", \"MarkDown4\", \"MarkDown5\", \"Type_A\", \"Type_B\", \"Type_C\"]\n",
    "features = walmart_data[list(columns)].values\n",
    "features\n",
    "X_train, X_test, y_train, y_test = train_test_split(features, targets, test_size=0.2, random_state=1)"
   ]
  },
  {
   "cell_type": "code",
   "execution_count": 15,
   "metadata": {},
   "outputs": [
    {
     "data": {
      "text/plain": [
       "LinearRegression(copy_X=True, fit_intercept=True, n_jobs=1, normalize=False)"
      ]
     },
     "execution_count": 15,
     "metadata": {},
     "output_type": "execute_result"
    }
   ],
   "source": [
    "lin_r = LinearRegression()\n",
    "lin_r.fit(X_train, y_train)"
   ]
  },
  {
   "cell_type": "code",
   "execution_count": 33,
   "metadata": {},
   "outputs": [
    {
     "data": {
      "text/plain": [
       "BayesianRidge(alpha_1=1e-06, alpha_2=1e-06, compute_score=True, copy_X=True,\n",
       "       fit_intercept=True, lambda_1=1e-06, lambda_2=1e-06, n_iter=300,\n",
       "       normalize=False, tol=0.001, verbose=False)"
      ]
     },
     "execution_count": 33,
     "metadata": {},
     "output_type": "execute_result"
    }
   ],
   "source": [
    "bay_reg = BayesianRidge(compute_score=True)\n",
    "bay_reg.fit(X_train, y_train)"
   ]
  },
  {
   "cell_type": "code",
   "execution_count": 34,
   "metadata": {},
   "outputs": [
    {
     "data": {
      "text/plain": [
       "<matplotlib.legend.Legend at 0x1a1261db38>"
      ]
     },
     "execution_count": 34,
     "metadata": {},
     "output_type": "execute_result"
    },
    {
     "data": {
      "image/png": "[encoded data removed]",
      "text/plain": [
       "<Figure size 432x288 with 1 Axes>"
      ]
     },
     "metadata": {},
     "output_type": "display_data"
    }
   ],
   "source": [
    "train_size, train_score, test_score = learning_curve(bay_reg, features, y, cv=10, n_jobs=2, train_sizes=np.linspace(.1, 1.0, 20))\n",
    "\n",
    "train_mean = np.mean(train_score, axis=1)\n",
    "train_std  = np.std(train_score, axis=1)\n",
    "test_mean  = np.mean(test_score, axis=1)\n",
    "test_std   = np.std(test_score, axis=1)\n",
    "\n",
    "plt.fill_between(train_size, train_mean-train_std, train_mean+train_std, alpha=0.1, color=\"r\")\n",
    "plt.fill_between(train_size, test_mean-test_std, test_mean+test_std, alpha=0.1, color=\"b\")\n",
    "\n",
    "plt.plot(train_size, train_mean, color=\"r\",label=\"Training score\")\n",
    "plt.plot(train_size, test_mean, color=\"b\",label=\"Cross-validation score\")\n",
    "         \n",
    "plt.title(\"Learning curve for Bayesian Regression\")\n",
    "plt.ylabel(\"Score\")                \n",
    "plt.xlabel(\"Training Size\")\n",
    "plt.grid()\n",
    "plt.legend(loc=\"best\")"
   ]
  },
  {
   "cell_type": "code",
   "execution_count": 16,
   "metadata": {},
   "outputs": [
    {
     "data": {
      "text/plain": [
       "<matplotlib.legend.Legend at 0x1a489e4400>"
      ]
     },
     "execution_count": 16,
     "metadata": {},
     "output_type": "execute_result"
    },
    {
     "data": {
      "image/png": "[encoded data removed]",
      "text/plain": [
       "<Figure size 432x288 with 1 Axes>"
      ]
     },
     "metadata": {},
     "output_type": "display_data"
    }
   ],
   "source": [
    "train_size, train_score, test_score = learning_curve(lin_r, features, y, cv=10, n_jobs=2, train_sizes=np.linspace(.1, 1.0, 20))\n",
    "\n",
    "train_mean = np.mean(train_score, axis=1)\n",
    "train_std  = np.std(train_score, axis=1)\n",
    "test_mean  = np.mean(test_score, axis=1)\n",
    "test_std   = np.std(test_score, axis=1)\n",
    "\n",
    "plt.fill_between(train_size, train_mean-train_std, train_mean+train_std, alpha=0.1, color=\"r\")\n",
    "plt.fill_between(train_size, test_mean-test_std, test_mean+test_std, alpha=0.1, color=\"b\")\n",
    "\n",
    "plt.plot(train_size, train_mean, color=\"r\",label=\"Training score\")\n",
    "plt.plot(train_size, test_mean, color=\"b\",label=\"Cross-validation score\")\n",
    "         \n",
    "plt.title(\"Learning curve for Linear Regression\")\n",
    "plt.ylabel(\"Score\")                \n",
    "plt.xlabel(\"Training Size\")\n",
    "plt.grid()\n",
    "plt.legend(loc=\"best\")"
   ]
  },
  {
   "cell_type": "markdown",
   "metadata": {},
   "source": [
    "### Desicion Tree"
   ]
  },
  {
   "cell_type": "markdown",
   "metadata": {},
   "source": [
    "Due to the low accuracy score, it was necessary to try more complex models, and I started from Decision Tree Regressor. Model fitted well with training data, but on a unseen data is cross validation score showed around 50-55%. By increasing training size, and tuning 'max_depth' parameter, validation score can be maximized up to 60 percent."
   ]
  },
  {
   "cell_type": "code",
   "execution_count": 39,
   "metadata": {
    "colab": {
     "base_uri": "https://localhost:8080/",
     "height": 102
    },
    "colab_type": "code",
    "id": "3XSTfLi6FcFB",
    "outputId": "e933511e-611c-4b78-a442-06325b9f9fc0"
   },
   "outputs": [
    {
     "data": {
      "text/plain": [
       "DecisionTreeRegressor(criterion='mse', max_depth=50, max_features=None,\n",
       "           max_leaf_nodes=None, min_impurity_decrease=0.0,\n",
       "           min_impurity_split=None, min_samples_leaf=1,\n",
       "           min_samples_split=2, min_weight_fraction_leaf=0.0,\n",
       "           presort=False, random_state=0, splitter='best')"
      ]
     },
     "execution_count": 39,
     "metadata": {},
     "output_type": "execute_result"
    }
   ],
   "source": [
    "regressor = DecisionTreeRegressor(max_depth=50, random_state=0)\n",
    "regressor.fit(X_train, y_train)"
   ]
  },
  {
   "cell_type": "markdown",
   "metadata": {},
   "source": [
    "Learnig Curve For Decision Tree Regressor"
   ]
  },
  {
   "cell_type": "code",
   "execution_count": 47,
   "metadata": {
    "colab": {
     "base_uri": "https://localhost:8080/",
     "height": 393
    },
    "colab_type": "code",
    "id": "b4eaUnr4LlFw",
    "outputId": "6d8a1d16-7f31-4595-8126-bf76c6b7f38e"
   },
   "outputs": [
    {
     "data": {
      "text/plain": [
       "<matplotlib.legend.Legend at 0x7f6991dbf860>"
      ]
     },
     "execution_count": 47,
     "metadata": {
      "tags": []
     },
     "output_type": "execute_result"
    },
    {
     "data": {
      "image/png": "[encoded data removed]",
      "text/plain": [
       "<matplotlib.figure.Figure at 0x7f69980d7be0>"
      ]
     },
     "metadata": {
      "tags": []
     },
     "output_type": "display_data"
    }
   ],
   "source": [
    "train_size, train_score, test_score = learning_curve(regressor, features, y, cv=10, n_jobs=2, train_sizes=np.linspace(.1, 1.0, 20))\n",
    "\n",
    "train_mean = np.mean(train_score, axis=1)\n",
    "train_std  = np.std(train_score, axis=1)\n",
    "test_mean  = np.mean(test_score, axis=1)\n",
    "test_std   = np.std(test_score, axis=1)\n",
    "\n",
    "plt.fill_between(train_size, train_mean-train_std, train_mean+train_std, alpha=0.1, color=\"r\")\n",
    "plt.fill_between(train_size, test_mean-test_std, test_mean+test_std, alpha=0.1, color=\"g\")\n",
    "\n",
    "plt.plot(train_size, train_mean, color=\"r\",label=\"Training score\")\n",
    "plt.plot(train_size, test_mean, color=\"b\",label=\"Cross-validation score\")\n",
    "         \n",
    "plt.title(\"Learning curve for Decision Tree Regressor\")\n",
    "plt.ylabel(\"Score\")                \n",
    "plt.xlabel(\"Training Size\")\n",
    "plt.grid()\n",
    "plt.legend(loc=\"best\")"
   ]
  },
  {
   "cell_type": "code",
   "execution_count": 43,
   "metadata": {},
   "outputs": [
    {
     "data": {
      "text/plain": [
       "<matplotlib.legend.Legend at 0x1a334fb4e0>"
      ]
     },
     "execution_count": 43,
     "metadata": {},
     "output_type": "execute_result"
    },
    {
     "data": {
      "image/png": "[encoded data removed]",
      "text/plain": [
       "<Figure size 432x288 with 1 Axes>"
      ]
     },
     "metadata": {},
     "output_type": "display_data"
    }
   ],
   "source": [
    "param = [10, 30, 70]\n",
    "\n",
    "train_scores, test_scores = validation_curve(DecisionTreeRegressor(), \n",
    "                                             features, \n",
    "                                             y, \n",
    "                                             param_name=\"max_depth\",\n",
    "                                             scoring = \"r2\",\n",
    "                                             param_range=param_range,\n",
    "                                             cv=3, \n",
    "                                             n_jobs=1)\n",
    "\n",
    "train_mean = np.mean(train_scores, axis=1)\n",
    "train_std = np.std(train_scores, axis=1)\n",
    "\n",
    "test_mean = np.mean(test_scores, axis=1)\n",
    "test_std = np.std(test_scores, axis=1)\n",
    "\n",
    "plt.plot(param_range, train_mean, label=\"Training score\", color=\"green\")\n",
    "plt.plot(param_range, test_mean, label=\"Cross-validation score\", color=\"purple\")\n",
    "\n",
    "plt.fill_between(param_range, train_mean - train_std, train_mean + train_std, color=\"gray\")\n",
    "plt.fill_between(param_range, test_mean - test_std, test_mean + test_std, color=\"gainsboro\")\n",
    "\n",
    "plt.title(\"Validation Curve With Decision Tree Regressor\")\n",
    "plt.xlabel(\"Maximum Depth\")\n",
    "plt.ylabel(\"Accuracy Score\")\n",
    "plt.tight_layout()\n",
    "plt.legend(loc=\"best\")"
   ]
  },
  {
   "cell_type": "code",
   "execution_count": 40,
   "metadata": {
    "colab": {
     "base_uri": "https://localhost:8080/",
     "height": 34
    },
    "colab_type": "code",
    "id": "fe3aeMfIFf3b",
    "outputId": "b999b705-cef0-43b1-8be9-201168f64fcd"
   },
   "outputs": [
    {
     "data": {
      "text/plain": [
       "0.9585604990504689"
      ]
     },
     "execution_count": 40,
     "metadata": {},
     "output_type": "execute_result"
    }
   ],
   "source": [
    "regressor.score(X_test, y_test)"
   ]
  },
  {
   "cell_type": "markdown",
   "metadata": {},
   "source": [
    "### Gradient Boosting"
   ]
  },
  {
   "cell_type": "markdown",
   "metadata": {},
   "source": [
    "Next considered model is Gradient Boosting Regressor. The model is known as the combination of weak estimators which makes them a strong model together. The higher the number of estimators used, higher the validation score. From the validation curve below it can be seen that by maximizing the number of trees, score can be incresed intil 65 percent. Also, in learning curve, as the training size increases, the validation score also increases. However, training score decreases, which means that the model is underfitting."
   ]
  },
  {
   "cell_type": "code",
   "execution_count": 44,
   "metadata": {
    "colab": {
     "base_uri": "https://localhost:8080/",
     "height": 136
    },
    "colab_type": "code",
    "id": "ja2728mQFlTw",
    "outputId": "dbff922d-8d6e-4960-928f-c65e3d7026a7"
   },
   "outputs": [
    {
     "data": {
      "text/plain": [
       "GradientBoostingRegressor(alpha=0.9, criterion='friedman_mse', init=None,\n",
       "             learning_rate=0.1, loss='ls', max_depth=3, max_features=None,\n",
       "             max_leaf_nodes=None, min_impurity_decrease=0.0,\n",
       "             min_impurity_split=None, min_samples_leaf=1,\n",
       "             min_samples_split=2, min_weight_fraction_leaf=0.0,\n",
       "             n_estimators=100, presort='auto', random_state=None,\n",
       "             subsample=1.0, verbose=0, warm_start=False)"
      ]
     },
     "execution_count": 44,
     "metadata": {},
     "output_type": "execute_result"
    }
   ],
   "source": [
    "gbr = GradientBoostingRegressor()\n",
    "gbr.fit(X_train, y_train)"
   ]
  },
  {
   "cell_type": "code",
   "execution_count": 14,
   "metadata": {},
   "outputs": [
    {
     "data": {
      "text/plain": [
       "<matplotlib.legend.Legend at 0x1a120831d0>"
      ]
     },
     "execution_count": 14,
     "metadata": {},
     "output_type": "execute_result"
    },
    {
     "data": {
      "image/png": "[encoded data removed]",
      "text/plain": [
       "<Figure size 432x288 with 1 Axes>"
      ]
     },
     "metadata": {},
     "output_type": "display_data"
    }
   ],
   "source": [
    "train_size, train_score, test_score = learning_curve(gbr, features, y, cv=10, n_jobs=2, train_sizes=np.linspace(.1, 1.0, 20))\n",
    "\n",
    "train_mean = np.mean(train_score, axis=1)\n",
    "train_std  = np.std(train_score, axis=1)\n",
    "test_mean  = np.mean(test_score, axis=1)\n",
    "test_std   = np.std(test_score, axis=1)\n",
    "\n",
    "plt.fill_between(train_size, train_mean-train_std, train_mean+train_std, alpha=0.1, color=\"r\")\n",
    "plt.fill_between(train_size, test_mean-test_std, test_mean+test_std, alpha=0.1, color=\"b\")\n",
    "\n",
    "plt.plot(train_size, train_mean, color=\"r\",label=\"Training score\")\n",
    "plt.plot(train_size, test_mean, color=\"b\",label=\"Cross-validation score\")\n",
    "         \n",
    "plt.title(\"Learning curve for Gradient Boosting Regressor Forest Regressor\")\n",
    "plt.ylabel(\"Score\")                \n",
    "plt.xlabel(\"Training Size\")\n",
    "plt.grid()\n",
    "plt.legend(loc=\"best\")"
   ]
  },
  {
   "cell_type": "code",
   "execution_count": 45,
   "metadata": {},
   "outputs": [
    {
     "data": {
      "image/png": "[encoded data removed]",
      "text/plain": [
       "<Figure size 432x288 with 1 Axes>"
      ]
     },
     "metadata": {},
     "output_type": "display_data"
    }
   ],
   "source": [
    "param = [100, 500, 1000, 1500]\n",
    "train_scores, test_scores = validation_curve(gbr, \n",
    "                                             features, \n",
    "                                             y, \n",
    "                                             param_name=\"n_estimators\",\n",
    "                                             scoring = \"r2\",\n",
    "                                             param_range=param_range,\n",
    "                                             cv=3, \n",
    "                                             n_jobs=1)\n",
    "train_mean = np.mean(train_scores, axis=1)\n",
    "train_std = np.std(train_scores, axis=1)\n",
    "\n",
    "test_mean = np.mean(test_scores, axis=1)\n",
    "test_std = np.std(test_scores, axis=1)\n",
    "\n",
    "plt.plot(param_range, train_mean, label=\"Training score\", color=\"green\")\n",
    "plt.plot(param_range, test_mean, label=\"Cross-validation score\", color=\"purple\")\n",
    "\n",
    "\n",
    "plt.fill_between(param_range, train_mean - train_std, train_mean + train_std, color=\"gray\")\n",
    "plt.fill_between(param_range, test_mean - test_std, test_mean + test_std, color=\"gainsboro\")\n",
    "\n",
    "plt.title(\"Validation Curve With Gradient Boosting Regressor\")\n",
    "plt.xlabel(\"Number Of Trees\")\n",
    "plt.ylabel(\"Accuracy Score\")\n",
    "plt.tight_layout()\n",
    "plt.legend(loc=\"best\")\n",
    "plt.show()"
   ]
  },
  {
   "cell_type": "code",
   "execution_count": 0,
   "metadata": {
    "colab": {
     "base_uri": "https://localhost:8080/",
     "height": 34
    },
    "colab_type": "code",
    "id": "8FI6DzY-Fs2h",
    "outputId": "ace481f7-c300-4757-bd01-e408fd348e1e"
   },
   "outputs": [
    {
     "data": {
      "text/plain": [
       "0.7512941634068129"
      ]
     },
     "execution_count": 16,
     "metadata": {
      "tags": []
     },
     "output_type": "execute_result"
    }
   ],
   "source": [
    "gbr.score(X_test, y_test)"
   ]
  },
  {
   "cell_type": "markdown",
   "metadata": {},
   "source": [
    "### Random Forest Regressor"
   ]
  },
  {
   "cell_type": "markdown",
   "metadata": {},
   "source": [
    "Random Forest Regressor is a collection of Desicion Tree models, that's why, its accuracy also depends on number of trees used. However, validation curve for random forest shows that number of tree does not affect the validation scoreafter it reaches 25, which shows about 62 percent accuracy. Validation score can be maximized by increasing the trining size until approximately 67 percent."
   ]
  },
  {
   "cell_type": "code",
   "execution_count": 71,
   "metadata": {
    "colab": {
     "base_uri": "https://localhost:8080/",
     "height": 173
    },
    "colab_type": "code",
    "id": "MtMD55o4Fw_1",
    "outputId": "fe4d88e9-0445-40ac-9275-02caf92835eb"
   },
   "outputs": [
    {
     "data": {
      "text/plain": [
       "RandomForestRegressor(bootstrap=True, criterion='mse', max_depth=None,\n",
       "           max_features='auto', max_leaf_nodes=None,\n",
       "           min_impurity_decrease=0.0, min_impurity_split=None,\n",
       "           min_samples_leaf=1, min_samples_split=2,\n",
       "           min_weight_fraction_leaf=0.0, n_estimators=10, n_jobs=1,\n",
       "           oob_score=False, random_state=None, verbose=0, warm_start=False)"
      ]
     },
     "execution_count": 71,
     "metadata": {},
     "output_type": "execute_result"
    }
   ],
   "source": [
    "rfr = RandomForestRegressor()\n",
    "rfr.fit(X_train, y_train)"
   ]
  },
  {
   "cell_type": "code",
   "execution_count": 72,
   "metadata": {
    "colab": {
     "base_uri": "https://localhost:8080/",
     "height": 7213
    },
    "colab_type": "code",
    "id": "3ulddDs6VHlM",
    "outputId": "1a6baff9-2caf-4e8d-817c-3337c3f1568b"
   },
   "outputs": [
    {
     "data": {
      "text/plain": [
       "<matplotlib.legend.Legend at 0x1a36558ac8>"
      ]
     },
     "execution_count": 72,
     "metadata": {},
     "output_type": "execute_result"
    },
    {
     "data": {
      "image/png": "[encoded data removed]",
      "text/plain": [
       "<Figure size 432x288 with 1 Axes>"
      ]
     },
     "metadata": {},
     "output_type": "display_data"
    }
   ],
   "source": [
    "train_size, train_score, test_score = learning_curve(rfr, features, y, cv=10, n_jobs=2, train_sizes=np.linspace(.1, 1.0, 20))\n",
    "\n",
    "train_mean = np.mean(train_score, axis=1)\n",
    "train_std  = np.std(train_score, axis=1)\n",
    "test_mean  = np.mean(test_score, axis=1)\n",
    "test_std   = np.std(test_score, axis=1)\n",
    "\n",
    "plt.fill_between(train_size, train_mean-train_std, train_mean+train_std, alpha=0.1, color=\"r\")\n",
    "plt.fill_between(train_size, test_mean-test_std, test_mean+test_std, alpha=0.1, color=\"b\")\n",
    "\n",
    "plt.plot(train_size, train_mean, color=\"r\",label=\"Training score\")\n",
    "plt.plot(train_size, test_mean, color=\"b\",label=\"Cross-validation score\")\n",
    "         \n",
    "plt.title(\"Learning curve for Random Forest Regressor\")\n",
    "plt.ylabel(\"Score\")                \n",
    "plt.xlabel(\"Training Size\")\n",
    "plt.grid()\n",
    "plt.legend(loc=\"best\")"
   ]
  },
  {
   "cell_type": "code",
   "execution_count": 36,
   "metadata": {
    "colab": {
     "base_uri": "https://localhost:8080/",
     "height": 340
    },
    "colab_type": "code",
    "id": "0T-g6smYFv_b",
    "outputId": "29874064-efd2-479e-b8ce-df13468e0c80"
   },
   "outputs": [
    {
     "data": {
      "text/plain": [
       "[('Store', 0.053878608589078655),\n",
       " ('Dept', 0.6311773122692911),\n",
       " ('Week', 0.02178070226394319),\n",
       " ('Black_Friday', 0.01910816501293905),\n",
       " ('Christmas', 0.00841506972280465),\n",
       " ('IsHoliday', 0.0006538950821505371),\n",
       " ('CPI', 0.02433094607288269),\n",
       " ('Unemployment', 0.011431659870416699),\n",
       " ('Size', 0.19243115852384185),\n",
       " ('Temperature', 0.010528705485371754),\n",
       " ('Fuel_Price', 0.005088595243955434),\n",
       " ('MarkDown1', 0.0010072224200064295),\n",
       " ('MarkDown2', 0.0011241366882508836),\n",
       " ('MarkDown3', 0.0025912791424348505),\n",
       " ('MarkDown4', 0.0013066495390771974),\n",
       " ('MarkDown5', 0.0012730398225405954),\n",
       " ('Type_A', 0.00289407723041676),\n",
       " ('Type_B', 0.010557136162464495),\n",
       " ('Type_C', 0.000421640858133225)]"
      ]
     },
     "execution_count": 36,
     "metadata": {
      "tags": []
     },
     "output_type": "execute_result"
    }
   ],
   "source": [
    "list(zip(columns, rfr.feature_importances_))"
   ]
  },
  {
   "cell_type": "code",
   "execution_count": 37,
   "metadata": {
    "colab": {
     "base_uri": "https://localhost:8080/",
     "height": 34
    },
    "colab_type": "code",
    "id": "1JuUDMjFF1xe",
    "outputId": "ff33bd07-a90b-4446-fa7d-50992f3bfb48"
   },
   "outputs": [
    {
     "data": {
      "text/plain": [
       "0.9733261445862355"
      ]
     },
     "execution_count": 37,
     "metadata": {
      "tags": []
     },
     "output_type": "execute_result"
    }
   ],
   "source": [
    "rfr.get_params().keys()\n",
    "rfr.score(X_test, y_test)\n",
    "#help(RandomForestRegressor())"
   ]
  },
  {
   "cell_type": "code",
   "execution_count": 36,
   "metadata": {
    "colab": {},
    "colab_type": "code",
    "id": "VJkJhyodIybD"
   },
   "outputs": [
    {
     "data": {
      "image/png": "[encoded data removed]",
      "text/plain": [
       "<Figure size 432x288 with 1 Axes>"
      ]
     },
     "metadata": {},
     "output_type": "display_data"
    }
   ],
   "source": [
    "param_range = np.arange(1, 250, 25)\n",
    "train_scores, test_scores = validation_curve(RandomForestRegressor(), \n",
    "                                             features, \n",
    "                                             y, \n",
    "                                             param_name=\"n_estimators\",\n",
    "                                             scoring = \"r2\",\n",
    "                                             param_range=param_range,\n",
    "                                             cv=3, \n",
    "                                             n_jobs=1)\n",
    "train_mean = np.mean(train_scores, axis=1)\n",
    "train_std = np.std(train_scores, axis=1)\n",
    "\n",
    "test_mean = np.mean(test_scores, axis=1)\n",
    "test_std = np.std(test_scores, axis=1)\n",
    "\n",
    "plt.plot(param_range, train_mean, label=\"Training score\", color=\"green\")\n",
    "plt.plot(param_range, test_mean, label=\"Cross-validation score\", color=\"purple\")\n",
    "\n",
    "\n",
    "plt.fill_between(param_range, train_mean - train_std, train_mean + train_std, color=\"gray\")\n",
    "plt.fill_between(param_range, test_mean - test_std, test_mean + test_std, color=\"gainsboro\")\n",
    "\n",
    "plt.title(\"Validation Curve With Random Forest Regressor\")\n",
    "plt.xlabel(\"Number Of Trees\")\n",
    "plt.ylabel(\"Accuracy Score\")\n",
    "plt.tight_layout()\n",
    "plt.legend(loc=\"best\")\n",
    "plt.show()"
   ]
  },
  {
   "cell_type": "code",
   "execution_count": 9,
   "metadata": {},
   "outputs": [
    {
     "ename": "NameError",
     "evalue": "name 'test_scores' is not defined",
     "output_type": "error",
     "traceback": [
      "\u001b[0;31m---------------------------------------------------------------------------\u001b[0m",
      "\u001b[0;31mNameError\u001b[0m                                 Traceback (most recent call last)",
      "\u001b[0;32m<ipython-input-9-bbccd53d4177>\u001b[0m in \u001b[0;36m<module>\u001b[0;34m()\u001b[0m\n\u001b[0;32m----> 1\u001b[0;31m \u001b[0mtest_scores\u001b[0m\u001b[0;34m\u001b[0m\u001b[0m\n\u001b[0m",
      "\u001b[0;31mNameError\u001b[0m: name 'test_scores' is not defined"
     ]
    }
   ],
   "source": [
    "test_scores"
   ]
  },
  {
   "cell_type": "markdown",
   "metadata": {},
   "source": [
    "### Best Model Selection"
   ]
  },
  {
   "cell_type": "markdown",
   "metadata": {},
   "source": [
    "Linear models are not recommended to use for given data since they have low validation scores. If compare last three models, Decision Three Regressor gives a bit lower validation score among three models. Also, the model known for its overfitting problem. If compare other two models, both models has approximately same maximized validation scores, however, maximization of validation score cause decrease in training score, which shows that models underfits. If consider Random Forest Regressor, it is clearly overfits, since there is a variance betweent trianing and validation score. Also, it is hard to maximize the score by tuning parameters. To choose a better model, I have constructed graphs comparing 'predicted' vs 'actual' weekly sales for both models"
   ]
  },
  {
   "cell_type": "code",
   "execution_count": 42,
   "metadata": {},
   "outputs": [],
   "source": [
    "gbr = GradientBoostingRegressor(n_estimators = 150)\n",
    "y_pred_gbr = gbr.fit(X_train, y_train).predict(X_test)"
   ]
  },
  {
   "cell_type": "code",
   "execution_count": 38,
   "metadata": {},
   "outputs": [],
   "source": [
    "rfr = RandomForestRegressor(n_estimators = 25)\n",
    "y_pred_rfr = rfr.fit(X_train, y_train).predict(X_test)"
   ]
  },
  {
   "cell_type": "code",
   "execution_count": 41,
   "metadata": {},
   "outputs": [
    {
     "name": "stdout",
     "output_type": "stream",
     "text": [
      "[  202.76 16482.   48167.29 ...   261.   91894.23 48095.78] [  288.0404 11861.4728 48501.2388 ...   333.4844 90469.4548 50910.2496]\n",
      "155340036.75440058\n",
      "108122\n",
      "1436.710722650345\n"
     ]
    }
   ],
   "source": [
    "m = walmart_data[\"IsHoliday\"].values\n",
    "print(y_test, y_pred_rfr)\n",
    "n = 0\n",
    "w = 0\n",
    "for i in range(len(y_test)):\n",
    "    if m[i] ==1:\n",
    "        s = 5 * abs(y_test[i] - y_pred_rfr[i])\n",
    "        n = n + s\n",
    "        w = w +5\n",
    "    else:\n",
    "        s  = abs(y_test[i] - y_pred_rfr[i])\n",
    "        n = n + s\n",
    "        w = w + 1\n",
    "    \n",
    "print(n)\n",
    "print(w)\n",
    "print(n/w)"
   ]
  },
  {
   "cell_type": "code",
   "execution_count": 43,
   "metadata": {},
   "outputs": [
    {
     "name": "stdout",
     "output_type": "stream",
     "text": [
      "[  202.76 16482.   48167.29 ...   261.   91894.23 48095.78] [ 3173.25316347  9492.39539426 40488.83402791 ...  2643.73653069\n",
      " 73722.77717537 66617.38933557]\n",
      "672605096.1181611\n",
      "108122\n",
      "6220.797766579984\n"
     ]
    }
   ],
   "source": [
    "m = walmart_data[\"IsHoliday\"].values\n",
    "print(y_test, y_pred_gbr)\n",
    "n = 0\n",
    "w = 0\n",
    "for i in range(len(y_test)):\n",
    "    if m[i] ==1:\n",
    "        s = 5 * abs(y_test[i] - y_pred_gbr[i])\n",
    "        n = n + s\n",
    "        w = w +5\n",
    "    else:\n",
    "        s  = abs(y_test[i] - y_pred_gbr[i])\n",
    "        n = n + s\n",
    "        w = w + 1\n",
    "    \n",
    "print(n)\n",
    "print(w)\n",
    "print(n/w)"
   ]
  },
  {
   "cell_type": "code",
   "execution_count": 28,
   "metadata": {},
   "outputs": [
    {
     "ename": "NameError",
     "evalue": "name 'y_pred_gbr' is not defined",
     "output_type": "error",
     "traceback": [
      "\u001b[0;31m---------------------------------------------------------------------------\u001b[0m",
      "\u001b[0;31mNameError\u001b[0m                                 Traceback (most recent call last)",
      "\u001b[0;32m<ipython-input-28-702ae1a204c9>\u001b[0m in \u001b[0;36m<module>\u001b[0;34m()\u001b[0m\n\u001b[0;32m----> 1\u001b[0;31m \u001b[0mplt\u001b[0m\u001b[0;34m.\u001b[0m\u001b[0mplot\u001b[0m\u001b[0;34m(\u001b[0m\u001b[0my_test\u001b[0m\u001b[0;34m,\u001b[0m \u001b[0my_pred_gbr\u001b[0m\u001b[0;34m,\u001b[0m\u001b[0;34m'ro'\u001b[0m\u001b[0;34m,\u001b[0m \u001b[0mcolor\u001b[0m\u001b[0;34m=\u001b[0m\u001b[0;34m\"red\"\u001b[0m\u001b[0;34m)\u001b[0m\u001b[0;34m\u001b[0m\u001b[0m\n\u001b[0m\u001b[1;32m      2\u001b[0m \u001b[0mplt\u001b[0m\u001b[0;34m.\u001b[0m\u001b[0mplot\u001b[0m\u001b[0;34m(\u001b[0m\u001b[0my_test\u001b[0m\u001b[0;34m,\u001b[0m \u001b[0my_test\u001b[0m\u001b[0;34m,\u001b[0m\u001b[0;34m'b-'\u001b[0m\u001b[0;34m,\u001b[0m \u001b[0mcolor\u001b[0m \u001b[0;34m=\u001b[0m\u001b[0;34m\"green\"\u001b[0m\u001b[0;34m)\u001b[0m\u001b[0;34m\u001b[0m\u001b[0m\n\u001b[1;32m      3\u001b[0m \u001b[0mplt\u001b[0m\u001b[0;34m.\u001b[0m\u001b[0mtitle\u001b[0m\u001b[0;34m(\u001b[0m\u001b[0;34m\"Predicted vs Actual Weekly Sales for Gradient Boosting Regressor\"\u001b[0m\u001b[0;34m)\u001b[0m\u001b[0;34m\u001b[0m\u001b[0m\n\u001b[1;32m      4\u001b[0m \u001b[0mplt\u001b[0m\u001b[0;34m.\u001b[0m\u001b[0mylabel\u001b[0m\u001b[0;34m(\u001b[0m\u001b[0;34m\"y_pred\"\u001b[0m\u001b[0;34m)\u001b[0m\u001b[0;34m\u001b[0m\u001b[0m\n\u001b[1;32m      5\u001b[0m \u001b[0mplt\u001b[0m\u001b[0;34m.\u001b[0m\u001b[0mxlabel\u001b[0m\u001b[0;34m(\u001b[0m\u001b[0;34m\"y_test\"\u001b[0m\u001b[0;34m)\u001b[0m\u001b[0;34m\u001b[0m\u001b[0m\n",
      "\u001b[0;31mNameError\u001b[0m: name 'y_pred_gbr' is not defined"
     ]
    }
   ],
   "source": [
    "plt.plot(y_test, y_pred_gbr,'ro', color=\"red\")\n",
    "plt.plot(y_test, y_test,'b-', color =\"green\")\n",
    "plt.title(\"Predicted vs Actual Weekly Sales for Gradient Boosting Regressor\")\n",
    "plt.ylabel(\"y_pred\")                \n",
    "plt.xlabel(\"y_test\")\n",
    "plt.show()\n",
    "\n",
    "plt.plot(y_test, y_pred_rfr,'ro', color=\"red\")\n",
    "plt.plot(y_test, y_test,'b-', color =\"green\")\n",
    "plt.title(\"Predicted vs Actual Weekly Sales for Random Forest Regressor\")\n",
    "plt.ylabel(\"y_pred\")                \n",
    "plt.xlabel(\"y_test\")\n",
    "plt.show()"
   ]
  },
  {
   "cell_type": "code",
   "execution_count": null,
   "metadata": {},
   "outputs": [],
   "source": []
  },
  {
   "cell_type": "markdown",
   "metadata": {},
   "source": [
    "From the two figures above it is clearly seen that weekly sales predicted by Random Forest Regressor fits the actual weekly sales better that the values predicted by Gradient Boosting Regressor"
   ]
  },
  {
   "cell_type": "markdown",
   "metadata": {},
   "source": [
    "## Conlusion:\n",
    "The aim of the project was to identify the most appropriate model for predicting weekly sales for Walmart stores using the machine learning tools and techniques, and python library. Since the project was on unsupervised learning, I used regression models for value prediction. In total, five regression models were considered. Decision Tree Regressor, Gradient Boosying Regressor, and Random Forest Regressor models found out to have lower out-of-sample errors, one of them having underfittiing, and other overfitting issue to some extent. It was hard to identify the model with a better bias-variance tradeoff. Therefore, predicted weekly sales for unseen data were compared with actual data for both models, and it was concluded that Random Forest Regressor is more appropriate model for Walmart weekly sales prediction. This was an interesting, and challenging project, and the best outcome I could achieve was about 67 percent accuracy. In my opinion, for large store sales such as Walmart it is hard to achieve high validation scores, because a lot of things in market depends on human behavior (their taste), change in people's income, as well as opening of new stores of other brands nearby, selling the same products, or their closure. It is possible to make overall inferences about key factors that affect sales, such as size of the store, or type of the department as was discussed in the project. In the future, it could be achieve more precise results, if there will be more information about customers, and other stores nearby."
   ]
  },
  {
   "cell_type": "code",
   "execution_count": null,
   "metadata": {},
   "outputs": [],
   "source": []
  }
 ],
 "metadata": {
  "colab": {
   "name": "Untitled0.ipynb",
   "provenance": [],
   "version": "0.3.2"
  },
  "kernelspec": {
   "display_name": "Python 3",
   "language": "python",
   "name": "python3"
  },
  "language_info": {
   "codemirror_mode": {
    "name": "ipython",
    "version": 3
   },
   "file_extension": ".py",
   "mimetype": "text/x-python",
   "name": "python",
   "nbconvert_exporter": "python",
   "pygments_lexer": "ipython3",
   "version": "3.6.5"
  }
 },
 "nbformat": 4,
 "nbformat_minor": 1
}
